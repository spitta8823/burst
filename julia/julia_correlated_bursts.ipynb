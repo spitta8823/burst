{
 "cells": [
  {
   "cell_type": "code",
   "execution_count": 6,
   "metadata": {
    "collapsed": true
   },
   "outputs": [],
   "source": [
    "L = 160000; #時間発展の回数"
   ]
  },
  {
   "cell_type": "code",
   "execution_count": 7,
   "metadata": {
    "collapsed": false
   },
   "outputs": [
    {
     "data": {
      "text/plain": [
       "pprocess_poisson (generic function with 1 method)"
      ]
     },
     "execution_count": 7,
     "metadata": {},
     "output_type": "execute_result"
    }
   ],
   "source": [
    "function pprocess_poisson(μ, ε)\n",
    "    dt = 1 #1時間ステップ\n",
    "    xs = [0.0]; #初期値、xsは発火時系列\n",
    "    \n",
    "    t = 1.0; #時刻\n",
    "    ts = [1.0]; #イベントの発生した時間の記録\n",
    "\n",
    "    while t <= L*dt\n",
    "        t = t + dt;\n",
    "        m = sum(1/(t-ti) for ti in ts);\n",
    "        p = 1-exp(-μ*m-ε);\n",
    "        if rand() <= p\n",
    "            push!(ts, t)\n",
    "        end\n",
    "    end\n",
    "    return ts\n",
    "\n",
    "end"
   ]
  },
  {
   "cell_type": "code",
   "execution_count": 3,
   "metadata": {
    "collapsed": false
   },
   "outputs": [
    {
     "data": {
      "text/plain": [
       "44751-element Array{Float64,1}:\n",
       "      1.0\n",
       "      7.0\n",
       "     25.0\n",
       "     44.0\n",
       "     45.0\n",
       "     82.0\n",
       "    103.0\n",
       "    104.0\n",
       "    147.0\n",
       "    148.0\n",
       "    259.0\n",
       "    346.0\n",
       "    402.0\n",
       "      ⋮  \n",
       " 159967.0\n",
       " 159968.0\n",
       " 159971.0\n",
       " 159972.0\n",
       " 159973.0\n",
       " 159980.0\n",
       " 159981.0\n",
       " 159982.0\n",
       " 159985.0\n",
       " 159994.0\n",
       " 159996.0\n",
       " 159997.0"
      ]
     },
     "execution_count": 3,
     "metadata": {},
     "output_type": "execute_result"
    }
   ],
   "source": [
    "pp_row = pprocess_poisson(0.1,0.02)"
   ]
  },
  {
   "cell_type": "code",
   "execution_count": 8,
   "metadata": {
    "collapsed": false,
    "scrolled": true
   },
   "outputs": [
    {
     "data": {
      "text/plain": [
       "pprocess_poisson (generic function with 1 method)"
      ]
     },
     "execution_count": 8,
     "metadata": {},
     "output_type": "execute_result"
    }
   ],
   "source": [
    "function pprocess_poisson(μ, ε)\n",
    "    dt = 1 #1時間ステップ\n",
    "    xs = [0.0]; #初期値、xsは発火時系列\n",
    "    \n",
    "    t = 1.0; #時刻\n",
    "    ts = [1.0]; #イベントの発生した時間の記録\n",
    "\n",
    "    while t <= L*dt\n",
    "        t = t + dt;\n",
    "        m = sum(1/(t-ti) for ti in ts);\n",
    "        p = 1-exp(-μ*m-ε);\n",
    "        if rand() <= p\n",
    "            push!(ts, t)\n",
    "        end\n",
    "    end\n",
    "#    return ts\n",
    "\n",
    "    i = 1;\n",
    "    τ_a = [];\n",
    "    while i <= length(ts) -1\n",
    "            τ = ts[i+1] - ts[i]\n",
    "        push!(τ_a, τ); \n",
    "        i = i + 1\n",
    "    end\n",
    "    \n",
    "    return sort!(τ_a)\n",
    "end"
   ]
  },
  {
   "cell_type": "code",
   "execution_count": 9,
   "metadata": {
    "collapsed": false
   },
   "outputs": [
    {
     "data": {
      "text/plain": [
       "71320-element Array{Any,1}:\n",
       "   1.0\n",
       "   1.0\n",
       "   1.0\n",
       "   1.0\n",
       "   1.0\n",
       "   1.0\n",
       "   1.0\n",
       "   1.0\n",
       "   1.0\n",
       "   1.0\n",
       "   1.0\n",
       "   1.0\n",
       "   1.0\n",
       "   ⋮  \n",
       "  74.0\n",
       "  81.0\n",
       "  85.0\n",
       "  88.0\n",
       "  98.0\n",
       " 122.0\n",
       " 123.0\n",
       " 136.0\n",
       " 172.0\n",
       " 183.0\n",
       " 186.0\n",
       " 258.0"
      ]
     },
     "execution_count": 9,
     "metadata": {},
     "output_type": "execute_result"
    }
   ],
   "source": [
    "τ = pprocess_poisson(0.12,0.006)"
   ]
  },
  {
   "cell_type": "code",
   "execution_count": 10,
   "metadata": {
    "collapsed": false
   },
   "outputs": [
    {
     "data": {
      "text/plain": [
       "71320-element Array{Any,1}:\n",
       "   1.0\n",
       "   1.0\n",
       "   1.0\n",
       "   1.0\n",
       "   1.0\n",
       "   1.0\n",
       "   1.0\n",
       "   1.0\n",
       "   1.0\n",
       "   1.0\n",
       "   1.0\n",
       "   1.0\n",
       "   1.0\n",
       "   ⋮  \n",
       "  74.0\n",
       "  81.0\n",
       "  85.0\n",
       "  88.0\n",
       "  98.0\n",
       " 122.0\n",
       " 123.0\n",
       " 136.0\n",
       " 172.0\n",
       " 183.0\n",
       " 186.0\n",
       " 258.0"
      ]
     },
     "execution_count": 10,
     "metadata": {},
     "output_type": "execute_result"
    }
   ],
   "source": [
    "τ"
   ]
  },
  {
   "cell_type": "code",
   "execution_count": 11,
   "metadata": {
    "collapsed": false
   },
   "outputs": [],
   "source": [
    "using PyPlot\n",
    "ioff() "
   ]
  },
  {
   "cell_type": "code",
   "execution_count": 12,
   "metadata": {
    "collapsed": false,
    "scrolled": false
   },
   "outputs": [
    {
     "data": {
      "image/png": "[encoded data removed]",
      "text/plain": [
       "PyPlot.Figure(PyObject <Figure size 1000x1000 with 1 Axes>)"
      ]
     },
     "metadata": {},
     "output_type": "display_data"
    },
    {
     "name": "stderr",
     "output_type": "stream",
     "text": [
      "/Users/takeuchimakoto/.julia/v0.6/Conda/deps/usr/lib/python2.7/site-packages/matplotlib/cbook/deprecation.py:107: MatplotlibDeprecationWarning: Passing one of 'on', 'true', 'off', 'false' as a boolean is deprecated; use an actual boolean (True/False) instead.\n",
      "  warnings.warn(message, mplDeprecation, stacklevel=1)\n"
     ]
    },
    {
     "data": {
      "text/plain": [
       "PyObject Text(0.5,1,'Histogram')"
      ]
     },
     "execution_count": 12,
     "metadata": {},
     "output_type": "execute_result"
    }
   ],
   "source": [
    "##########\n",
    "#  Plot  #\n",
    "nbins = 280; # Number of bins\n",
    "\n",
    "fig = figure(\"pyplot_histogram\",figsize=(10,10)) # Not strictly required\n",
    "ax = axes() # Not strictly required\n",
    "h = plt[:hist](τ,nbins) # Histogram\n",
    "\n",
    "xscale(\"log\")\n",
    "yscale(\"log\")\n",
    "\n",
    "#xlim(0,120)\n",
    "#ylim(0,10^7)\n",
    "\n",
    "grid(\"on\")\n",
    "xlabel(\"X\")\n",
    "ylabel(\"Y\")\n",
    "title(\"Histogram\")\n",
    "#gcf() # Needed for IJulia to plot inline"
   ]
  },
  {
   "cell_type": "code",
   "execution_count": 1,
   "metadata": {
    "collapsed": false
   },
   "outputs": [
    {
     "data": {
      "text/plain": [
       "100-element Array{Any,1}:\n",
       "   1\n",
       "   2\n",
       "   3\n",
       "   4\n",
       "   5\n",
       "   6\n",
       "   7\n",
       "   8\n",
       "   9\n",
       "  10\n",
       "  11\n",
       "  12\n",
       "  13\n",
       "   ⋮\n",
       "  89\n",
       "  90\n",
       "  91\n",
       "  92\n",
       "  93\n",
       "  94\n",
       "  95\n",
       "  96\n",
       "  97\n",
       "  98\n",
       "  99\n",
       " 100"
      ]
     },
     "execution_count": 1,
     "metadata": {},
     "output_type": "execute_result"
    }
   ],
   "source": [
    "i = 1\n",
    "expx = []\n",
    "    while i <= 100\n",
    "    push!(expx, i); \n",
    "        i = i + 1\n",
    "    end\n",
    "expx"
   ]
  },
  {
   "cell_type": "code",
   "execution_count": 79,
   "metadata": {
    "collapsed": false
   },
   "outputs": [
    {
     "data": {
      "text/plain": [
       "100-element Array{Float64,1}:\n",
       "     1.36591e5  \n",
       " 50249.0        \n",
       " 18485.6        \n",
       "  6800.47       \n",
       "  2501.75       \n",
       "   920.343      \n",
       "   338.575      \n",
       "   124.555      \n",
       "    45.8212     \n",
       "    16.8567     \n",
       "     6.20122    \n",
       "     2.2813     \n",
       "     0.839244   \n",
       "     ⋮          \n",
       "     8.27004e-34\n",
       "     3.04238e-34\n",
       "     1.11923e-34\n",
       "     4.11741e-35\n",
       "     1.51471e-35\n",
       "     5.57231e-36\n",
       "     2.04994e-36\n",
       "     7.5413e-37 \n",
       "     2.77429e-37\n",
       "     1.0206e-37 \n",
       "     3.75459e-38\n",
       "     1.38124e-38"
      ]
     },
     "execution_count": 79,
     "metadata": {},
     "output_type": "execute_result"
    }
   ],
   "source": [
    "expy = 13^5 * exp.(-1 * expx)"
   ]
  },
  {
   "cell_type": "code",
   "execution_count": 73,
   "metadata": {
    "collapsed": false
   },
   "outputs": [
    {
     "data": {
      "text/plain": [
       "100-element Array{Float64,1}:\n",
       " 248832.0     \n",
       "  29021.1     \n",
       "   8257.15    \n",
       "   3384.7     \n",
       "   1694.72    \n",
       "    963.025   \n",
       "    597.176   \n",
       "    394.755   \n",
       "    274.002   \n",
       "    197.654   \n",
       "    147.092   \n",
       "    112.317   \n",
       "     87.6359  \n",
       "      ⋮       \n",
       "      0.225319\n",
       "      0.217648\n",
       "      0.210319\n",
       "      0.203312\n",
       "      0.196612\n",
       "      0.1902  \n",
       "      0.184062\n",
       "      0.178183\n",
       "      0.17255 \n",
       "      0.16715 \n",
       "      0.161971\n",
       "      0.157002"
      ]
     },
     "execution_count": 73,
     "metadata": {},
     "output_type": "execute_result"
    }
   ],
   "source": [
    "power_lawy = 12^5 * (expx*1.0).^-3.1"
   ]
  },
  {
   "cell_type": "code",
   "execution_count": 80,
   "metadata": {
    "collapsed": false
   },
   "outputs": [
    {
     "data": {
      "image/png": "[encoded data removed]",
      "text/plain": [
       "PyPlot.Figure(PyObject <Figure size 1000x1000 with 1 Axes>)"
      ]
     },
     "metadata": {},
     "output_type": "display_data"
    },
    {
     "data": {
      "text/plain": [
       "PyObject Text(0.5,1,'Histogram')"
      ]
     },
     "execution_count": 80,
     "metadata": {},
     "output_type": "execute_result"
    }
   ],
   "source": [
    "##########\n",
    "#  Plot  #\n",
    "nbins = 280; # Number of bins\n",
    "\n",
    "fig = figure(\"pyplot_histogram\",figsize=(10,10)) # Not strictly required\n",
    "ax = axes() # Not strictly required\n",
    "h = plt[:hist](τ,nbins) # Histogram\n",
    "exp_plt = plt[:plot](expx, expy)\n",
    "power_law_plt = plt[:plot](expx, power_lawy)\n",
    "\n",
    "xscale(\"log\")\n",
    "yscale(\"log\")\n",
    "\n",
    "#xlim(0,120)\n",
    "ylim(1,10^5)\n",
    "\n",
    "grid(\"on\")\n",
    "xlabel(\"X\")\n",
    "ylabel(\"Y\")\n",
    "title(\"Histogram\")\n",
    "#gcf() # Needed for IJulia to plot inline"
   ]
  },
  {
   "cell_type": "code",
   "execution_count": null,
   "metadata": {
    "collapsed": true
   },
   "outputs": [],
   "source": []
  },
  {
   "cell_type": "code",
   "execution_count": 10,
   "metadata": {
    "collapsed": true
   },
   "outputs": [],
   "source": []
  },
  {
   "cell_type": "code",
   "execution_count": 11,
   "metadata": {
    "collapsed": false
   },
   "outputs": [
    {
     "data": {
      "text/plain": [
       "100-element Array{Any,1}:\n",
       "   1\n",
       "   2\n",
       "   3\n",
       "   4\n",
       "   5\n",
       "   6\n",
       "   7\n",
       "   8\n",
       "   9\n",
       "  10\n",
       "  11\n",
       "  12\n",
       "  13\n",
       "   ⋮\n",
       "  89\n",
       "  90\n",
       "  91\n",
       "  92\n",
       "  93\n",
       "  94\n",
       "  95\n",
       "  96\n",
       "  97\n",
       "  98\n",
       "  99\n",
       " 100"
      ]
     },
     "execution_count": 11,
     "metadata": {},
     "output_type": "execute_result"
    }
   ],
   "source": []
  },
  {
   "cell_type": "code",
   "execution_count": 12,
   "metadata": {
    "collapsed": false
   },
   "outputs": [
    {
     "data": {
      "text/plain": [
       "2.718281828459045"
      ]
     },
     "execution_count": 12,
     "metadata": {},
     "output_type": "execute_result"
    }
   ],
   "source": [
    "expm(x[1])"
   ]
  },
  {
   "cell_type": "code",
   "execution_count": 13,
   "metadata": {
    "collapsed": false
   },
   "outputs": [],
   "source": [
    "y = []\n",
    "i = 1\n",
    "yx = 0\n",
    "while  i <= length(x)\n",
    "    yx = expm(0.1*x[i])\n",
    "    push!(y, yx); \n",
    "    i = 1 + i\n",
    "end"
   ]
  },
  {
   "cell_type": "code",
   "execution_count": 84,
   "metadata": {
    "collapsed": false
   },
   "outputs": [
    {
     "data": {
      "text/plain": [
       "100-element Array{Any,1}:\n",
       "     1.10517\n",
       "     1.2214 \n",
       "     1.34986\n",
       "     1.49182\n",
       "     1.64872\n",
       "     1.82212\n",
       "     2.01375\n",
       "     2.22554\n",
       "     2.4596 \n",
       "     2.71828\n",
       "     3.00417\n",
       "     3.32012\n",
       "     3.6693 \n",
       "     ⋮      \n",
       "  7331.97   \n",
       "  8103.08   \n",
       "  8955.29   \n",
       "  9897.13   \n",
       " 10938.0    \n",
       " 12088.4    \n",
       " 13359.7    \n",
       " 14764.8    \n",
       " 16317.6    \n",
       " 18033.7    \n",
       " 19930.4    \n",
       " 22026.5    "
      ]
     },
     "execution_count": 84,
     "metadata": {},
     "output_type": "execute_result"
    }
   ],
   "source": [
    "y"
   ]
  },
  {
   "cell_type": "code",
   "execution_count": 14,
   "metadata": {
    "collapsed": false
   },
   "outputs": [
    {
     "data": {
      "image/png": "[encoded data removed]",
      "text/plain": [
       "PyPlot.Figure(PyObject <Figure size 640x480 with 1 Axes>)"
      ]
     },
     "metadata": {},
     "output_type": "display_data"
    }
   ],
   "source": [
    "#using PyPlot\n",
    "plt[:plot](x, y, color=\"red\", linewidth=2.0, linestyle=\"-\")\n",
    "yscale(\"log\")"
   ]
  }
 ],
 "metadata": {
  "anaconda-cloud": {},
  "kernelspec": {
   "display_name": "Julia 0.6.2",
   "language": "julia",
   "name": "julia-0.6"
  },
  "language_info": {
   "file_extension": ".jl",
   "mimetype": "application/julia",
   "name": "julia",
   "version": "0.6.2"
  }
 },
 "nbformat": 4,
 "nbformat_minor": 2
}
